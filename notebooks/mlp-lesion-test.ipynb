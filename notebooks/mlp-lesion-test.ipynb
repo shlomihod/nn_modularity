{
 "cells": [
  {
   "cell_type": "markdown",
   "metadata": {
    "papermill": {
     "duration": 0.011404,
     "end_time": "2020-01-23T18:34:49.922773",
     "exception": false,
     "start_time": "2020-01-23T18:34:49.911369",
     "status": "completed"
    },
    "tags": []
   },
   "source": [
    "# MLP Lesion Test"
   ]
  },
  {
   "cell_type": "code",
   "execution_count": null,
   "metadata": {
    "papermill": {
     "duration": 3.365762,
     "end_time": "2020-01-23T18:34:53.302845",
     "exception": false,
     "start_time": "2020-01-23T18:34:49.937083",
     "status": "completed"
    },
    "tags": []
   },
   "outputs": [],
   "source": [
    "import os\n",
    "os.environ['CUDA_VISIBLE_DEVICES'] = '1'\n",
    "\n",
    "import sys\n",
    "sys.path.append('..')\n",
    "\n",
    "from IPython import display\n",
    "from tqdm import tqdm\n",
    "import seaborn as sns\n",
    "import pandas as pd\n",
    "\n",
    "from src.lesion import (perform_lesion_experiment,\n",
    "                        plot_all_damaged_clusters, compute_damaged_cluster_stats,\n",
    "                        plot_overall_damaged_clusters)\n",
    "from src.pointers import DATA_PATHS\n",
    "from src.experiment_tagging import get_model_path\n",
    "\n",
    "sns.set(style='whitegrid')"
   ]
  },
  {
   "cell_type": "code",
   "execution_count": null,
   "metadata": {
    "papermill": {
     "duration": 0.031087,
     "end_time": "2020-01-23T18:34:53.344016",
     "exception": false,
     "start_time": "2020-01-23T18:34:53.312929",
     "status": "completed"
    },
    "tags": []
   },
   "outputs": [],
   "source": [
    "MLP_MODELS = [\n",
    "              ('mnist', 'MNIST'),\n",
    "              ('line', 'LINE'),\n",
    "              ('cifar10', 'CIFAR10'),\n",
    "              ('fashion', 'FASHION'),\n",
    "              ('random', 'RANDOM'),\n",
    "              ('mnist', 'MNIST+DROPOUT'),\n",
    "              ('line', 'LINE+DROPOUT'),\n",
    "              ('cifar10', 'CIFAR10+DROPOUT'),\n",
    "              ('fashion', 'FASHION+DROPOUT')\n",
    "             ]"
   ]
  },
  {
   "cell_type": "code",
   "execution_count": null,
   "metadata": {
    "papermill": {
     "duration": 5758.285948,
     "end_time": "2020-01-23T20:10:51.638654",
     "exception": false,
     "start_time": "2020-01-23T18:34:53.352706",
     "status": "completed"
    },
    "scrolled": false,
    "tags": []
   },
   "outputs": [],
   "source": [
    "%%time\n",
    "\n",
    "with pd.ExcelWriter('../results/mlp-lesion.xlsx') as writer:\n",
    "\n",
    "    for dataset_name, model_name in tqdm(MLP_MODELS):\n",
    "\n",
    "        (true_results,\n",
    "         all_random_results,\n",
    "         metadata,\n",
    "         evaluation) = perform_lesion_experiment('.' + DATA_PATHS[dataset_name],\n",
    "                                                       get_model_path(model_name), n_shuffles=100)\n",
    "\n",
    "        plot_all_damaged_clusters(true_results, all_random_results, metadata, evaluation,\n",
    "                                  title=f'{model_name}');\n",
    "\n",
    "        plot_overall_damaged_clusters(true_results, all_random_results, metadata, evaluation,\n",
    "                                      title=f'{model_name}');\n",
    "\n",
    "        df = compute_damaged_cluster_stats(true_results, all_random_results, metadata, evaluation)\n",
    "\n",
    "        print(f'### {model_name}')\n",
    "        display.display(df)\n",
    "\n",
    "df.to_csv(f'../results/mlp-lesion-{model_name}.csv')\n",
    "df.to_excel(writer, sheet_name=model_name)"
   ]
  }
 ],
 "metadata": {
  "kernelspec": {
   "display_name": "Python 3",
   "language": "python",
   "name": "python3"
  },
  "language_info": {
   "codemirror_mode": {
    "name": "ipython",
    "version": 3
   },
   "file_extension": ".py",
   "mimetype": "text/x-python",
   "name": "python",
   "nbconvert_exporter": "python",
   "pygments_lexer": "ipython3",
   "version": "3.7.3"
  },
  "nteract": {
   "version": "0.12.3"
  },
  "papermill": {
   "duration": 5765.832293,
   "end_time": "2020-01-23T20:10:54.977356",
   "environment_variables": {},
   "exception": null,
   "input_path": "./notebooks/mlp-lesion-test.ipynb",
   "output_path": "./notebooks/mlp-lesion-test.ipynb",
   "parameters": {},
   "start_time": "2020-01-23T18:34:49.145063",
   "version": "1.1.0"
  }
 },
 "nbformat": 4,
 "nbformat_minor": 2
}
